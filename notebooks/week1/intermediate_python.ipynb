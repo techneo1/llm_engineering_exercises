{
 "cells": [
  {
   "cell_type": "code",
   "execution_count": null,
   "id": "201ffb3c",
   "metadata": {},
   "outputs": [
    {
     "name": "stdout",
     "output_type": "stream",
     "text": [
      "4.0\n",
      "[1 2 3]\n",
      "3\n"
     ]
    }
   ],
   "source": [
    "# Importing Modules and Packages in Python\n",
    "import math\n",
    "print(math.sqrt(16))\n",
    "\n",
    "import numpy as np\n",
    "print(np.array([1, 2, 3]))\n",
    "\n",
    "from random import randint\n",
    "print(randint(1, 10))"
   ]
  },
  {
   "cell_type": "code",
   "execution_count": 9,
   "id": "24efc7c3",
   "metadata": {},
   "outputs": [
    {
     "name": "stdout",
     "output_type": "stream",
     "text": [
      "Hello, Stranger!\n",
      "Hello, Srikanth!\n"
     ]
    }
   ],
   "source": [
    "# Functions in Python\n",
    "def greet(name=\"Stranger\"):\n",
    "    \"\"\"Function to greet a person\"\"\"\n",
    "    return f\"Hello, {name}!\"\n",
    "\n",
    "print(greet())\n",
    "print(greet(\"Srikanth\"))\n"
   ]
  },
  {
   "cell_type": "code",
   "execution_count": null,
   "id": "68983198",
   "metadata": {},
   "outputs": [
    {
     "name": "stdout",
     "output_type": "stream",
     "text": [
      "12\n",
      "Hello Python!\n",
      "['Hello', 'World!']\n",
      "Hello World!\n",
      "Hello\n",
      "======================\n",
      "Hello\n",
      "World!\n",
      "olleH\n",
      "!\n"
     ]
    }
   ],
   "source": [
    "# Basic String Manipulation in Python\n",
    "greeting = \"Hello World!\"\n",
    "print(len(greeting))\n",
    "\n",
    "print(greeting.replace(\"World\", \"Python\"))\n",
    "\n",
    "print(greeting.split())\n",
    "\n",
    "print(\" \".join(greeting.split()))\n",
    "\n",
    "formatted_string = \"           Hello            \"\n",
    "print(formatted_string.strip())\n",
    "print(\"======================\")\n",
    "print(greeting[0:5])\n",
    "print(greeting[6:])\n",
    "print(greeting[4::-1])\n",
    "print(greeting[-1])"
   ]
  },
  {
   "cell_type": "code",
   "execution_count": 26,
   "id": "9e39e408",
   "metadata": {},
   "outputs": [
    {
     "name": "stdout",
     "output_type": "stream",
     "text": [
      "This is a\n",
      "multiline string\n",
      "that spans\n",
      "multiple lines.\n",
      "This is a multiline string that spans multiple lines.\n",
      "This is a docstring\n",
      "    that describes the function.\n",
      "    It can span multiple lines.\n"
     ]
    }
   ],
   "source": [
    "# Multiline Strings in Python\n",
    "\n",
    "# using triple quotes\n",
    "multiline_string1 = \"\"\"This is a\n",
    "multiline string\n",
    "that spans\n",
    "multiple lines.\"\"\"\n",
    "print(multiline_string1)\n",
    "\n",
    "# using backslash\n",
    "multiline_string2 = \"This is a \\\n",
    "multiline string \\\n",
    "that spans \\\n",
    "multiple lines.\"\n",
    "print(multiline_string2)\n",
    "\n",
    "# triple quotes as docstring\n",
    "def example_function():\n",
    "    \"\"\"This is a docstring\n",
    "    that describes the function.\n",
    "    It can span multiple lines.\"\"\"\n",
    "    pass\n",
    "print(example_function.__doc__)"
   ]
  },
  {
   "cell_type": "code",
   "execution_count": null,
   "id": "b03131cc",
   "metadata": {},
   "outputs": [
    {
     "name": "stdout",
     "output_type": "stream",
     "text": [
      "My name is Srikanth and I am 30 years old.\n",
      "The price is $10.51\n",
      "Current time is 2025-05-03 11:12:47\n"
     ]
    }
   ],
   "source": [
    "# Formatting String literals in Python\n",
    "name = \"Srikanth\"\n",
    "age = 30\n",
    "print(f\"My name is {name} and I am {age} years old.\")\n",
    "\n",
    "price = 10.51123\n",
    "formatted_price = f\"The price is ${price:.2f}\" \n",
    "print(formatted_price)\n",
    "\n",
    "from datetime import datetime\n",
    "current_time = datetime.now()\n",
    "formatted_time = f\"Current time is {current_time:%Y-%m-%d %H:%M:%S}\"\n",
    "print(formatted_time)\n"
   ]
  },
  {
   "cell_type": "markdown",
   "id": "448213b6",
   "metadata": {},
   "source": [
    "LISTS - Ordered & Mutable"
   ]
  },
  {
   "cell_type": "code",
   "execution_count": null,
   "id": "d5cad07b",
   "metadata": {},
   "outputs": [],
   "source": [
    "# Lists in Python \n",
    "fruits = [\"apple\", \"banana\", \"cherry\"]\n",
    "print(fruits[0])  # Accessing elements\n",
    "print(fruits[1:3])  # Slicing\n",
    "print(fruits[-1])  # Negative indexing\n",
    "fruits.append(\"orange\")  # Adding elements\n",
    "print(fruits)\n",
    "fruits.remove(\"banana\")  # Removing elements\n",
    "print(fruits)\n",
    "fruits.sort()  # Sorting\n",
    "print(fruits)"
   ]
  },
  {
   "cell_type": "code",
   "execution_count": null,
   "id": "1d8623d6",
   "metadata": {},
   "outputs": [],
   "source": [
    "# Tuples in Python\n",
    "fruits_tuple = (\"apple\", \"banana\", \"cherry\")\n",
    "print(fruits_tuple[0])  # Accessing elements\n",
    "print(fruits_tuple[1:3])  # Slicing\n",
    "print(fruits_tuple[-1])  # Negative indexing\n",
    "print(fruits_tuple.count(\"banana\"))  # Counting elements\n",
    "print(fruits_tuple.index(\"cherry\"))  # Finding index of an element"
   ]
  },
  {
   "cell_type": "markdown",
   "id": "347dfe21",
   "metadata": {},
   "source": [
    "DICTIONARY - Unordered & Mutable"
   ]
  },
  {
   "cell_type": "code",
   "execution_count": 31,
   "id": "077d0a70",
   "metadata": {},
   "outputs": [
    {
     "name": "stdout",
     "output_type": "stream",
     "text": [
      "Srikanth\n",
      "30\n",
      "dict_keys(['name', 'age', 'city'])\n",
      "dict_values(['Srikanth', 30, 'Bengaluru'])\n",
      "dict_items([('name', 'Srikanth'), ('age', 30), ('city', 'Bengaluru')])\n",
      "{'name': 'Srikanth', 'age': 31, 'city': 'Bengaluru'}\n",
      "{'name': 'Srikanth', 'age': 31, 'city': 'Bengaluru', 'country': 'India'}\n",
      "{'name': 'Srikanth', 'age': 31, 'country': 'India'}\n"
     ]
    }
   ],
   "source": [
    "# Dictionaries in Python\n",
    "person = {\n",
    "    \"name\": \"Srikanth\",\n",
    "    \"age\": 30,\n",
    "    \"city\": \"Bengaluru\"\n",
    "}\n",
    "\n",
    "print(person[\"name\"])  # Accessing values\n",
    "print(person.get(\"age\"))  # Using get method\n",
    "print(person.keys())  # Getting keys\n",
    "print(person.values())  # Getting values\n",
    "print(person.items())  # Getting key-value pairs\n",
    "person[\"age\"] = 31  # Updating values\n",
    "print(person)\n",
    "person[\"country\"] = \"India\"  # Adding new key-value pair\n",
    "print(person)\n",
    "del person[\"city\"]  # Deleting key-value pair\n",
    "print(person)\n",
    "\n",
    "\n"
   ]
  },
  {
   "cell_type": "markdown",
   "id": "85f6e1cf",
   "metadata": {},
   "source": [
    "SETS - Unordered, Unique & Mutable"
   ]
  },
  {
   "cell_type": "code",
   "execution_count": null,
   "id": "ca17b54a",
   "metadata": {},
   "outputs": [],
   "source": [
    "fruit_set = {\"apple\", \"banana\", \"cherry\"}\n",
    "print(fruit_set)  # Printing the set\n",
    "fruit_set.add(\"orange\")  # Adding an element\n",
    "print(fruit_set)\n",
    "fruit_set.remove(\"banana\")  # Removing an element\n",
    "print(fruit_set)\n",
    "fruit_set.discard(\"banana\")  # Discarding an element\n",
    "print(fruit_set)\n",
    "fruit_set.clear()  # Clearing the set\n",
    "print(fruit_set)  # Printing the empty set\n"
   ]
  },
  {
   "cell_type": "markdown",
   "id": "88c8a4d9",
   "metadata": {},
   "source": [
    "LIST COMPREHENSION"
   ]
  },
  {
   "cell_type": "code",
   "execution_count": null,
   "id": "5dc22701",
   "metadata": {},
   "outputs": [
    {
     "name": "stdout",
     "output_type": "stream",
     "text": [
      "apple\n",
      "banana\n",
      "cherry\n",
      "['APPLE', 'BANANA', 'CHERRY']\n"
     ]
    }
   ],
   "source": [
    "fruits = [\"apple\", \"banana\", \"cherry\"]\n",
    "\n",
    "for fruit in fruits:\n",
    "    print(fruit)\n",
    "\n",
    "fruits_shouted = [fruit.upper() for fruit in fruits]\n",
    "print(fruits_shouted)     \n",
    "\n",
    "fruit_mapping = {fruit: fruit.upper() for fruit in fruits}\n",
    "print(fruit_mapping)  # {'apple': 'APPLE', 'banana': 'BANANA', 'cherry': 'CHERRY'}\n",
    "\n",
    "fruit_with_longer_names_shouted = {fruit: fruit.upper() for fruit in fruits if len(fruit) > 5}\n",
    "print(fruit_with_longer_names_shouted)  # {'banana': 'BANANA', 'cherry': 'CHERRY'}\n",
    "\n",
    "fruits_mapping_unless_starts_with_a = {fruit: fruit.upper() for fruit in fruits if not fruit.startswith(\"a\")}\n",
    "print(fruits_mapping_unless_starts_with_a)  # {'banana': 'BANANA', 'cherry': 'CHERRY'}"
   ]
  },
  {
   "cell_type": "markdown",
   "id": "37b7f129",
   "metadata": {},
   "source": [
    "DICTIONARY COMPREHENSION"
   ]
  },
  {
   "cell_type": "code",
   "execution_count": 37,
   "id": "8e5d04c3",
   "metadata": {},
   "outputs": [
    {
     "name": "stdout",
     "output_type": "stream",
     "text": [
      "['Book 1', 'Book 2', 'Book 3', 'Book 4']\n",
      "['Author 1', 'Author 1', 'Author 3', 'Author 4']\n",
      "['Book 3', 'Book 4']\n"
     ]
    }
   ],
   "source": [
    "book1 = {\n",
    "    \"title\": \"Book 1\",\n",
    "    \"author\": \"Author 1\",\n",
    "    \"year\": 2000\n",
    "}\n",
    "book2 = {\n",
    "    \"title\": \"Book 2\",\n",
    "    \"author\": \"Author 1\",\n",
    "    \"year\": 2005\n",
    "}\n",
    "book3 = {\n",
    "    \"title\": \"Book 3\",\n",
    "    \"author\": \"Author 3\",\n",
    "    \"year\": 2010\n",
    "}\n",
    "book4 = {\n",
    "    \"title\": \"Book 4\",\n",
    "    \"author\": \"Author 4\",\n",
    "    \"year\": 2015\n",
    "}\n",
    "\n",
    "#List of dictionaries\n",
    "books = [book1, book2, book3, book4]   \n",
    "\n",
    "book_titles = [book[\"title\"] for book in books]\n",
    "print(book_titles)  # ['Book 1', 'Book 2', 'Book 3', 'Book 4']\n",
    "\n",
    "boot_authors = [book.get('author') for book in books]\n",
    "print(boot_authors)  # ['Author 1', 'Author 1', 'Author 3', 'Author 4']\n",
    "\n",
    "\n",
    "books_with_year_greater_than_2005 = [book[\"title\"] for book in books if book[\"year\"] > 2005]\n",
    "print(books_with_year_greater_than_2005)  # ['Book 3', 'Book 4']\n"
   ]
  },
  {
   "cell_type": "markdown",
   "id": "fae33865",
   "metadata": {},
   "source": [
    "SET COMPREHENSION"
   ]
  },
  {
   "cell_type": "code",
   "execution_count": 38,
   "id": "148b4bbc",
   "metadata": {},
   "outputs": [
    {
     "name": "stdout",
     "output_type": "stream",
     "text": [
      "{'Author 3', 'Author 4', 'Author 1'}\n",
      "{'Author 3', 'Author 4', 'Author 1'}\n"
     ]
    }
   ],
   "source": [
    "unique_authors = set(book[\"author\"] for book in books)\n",
    "print(unique_authors)  # {'Author 1', 'Author 3', 'Author 4'}\n",
    "\n",
    "unique_authors2 = {book[\"author\"] for book in books}\n",
    "print(unique_authors2)  # {'Author 1', 'Author 3', 'Author 4'}"
   ]
  },
  {
   "cell_type": "markdown",
   "id": "6f502ed9",
   "metadata": {},
   "source": [
    "GENERATORS"
   ]
  },
  {
   "cell_type": "code",
   "execution_count": 41,
   "id": "21bda0f9",
   "metadata": {},
   "outputs": [
    {
     "name": "stdout",
     "output_type": "stream",
     "text": [
      "apple\n",
      "banana\n",
      "cherry\n",
      "date\n",
      "elderberry\n"
     ]
    }
   ],
   "source": [
    "# Come up with fruit names every second\n",
    "fruit_names = [\"apple\", \"banana\", \"cherry\", \"date\", \"elderberry\"]\n",
    "\n",
    "import time\n",
    "def come_up_with_fruit_names():\n",
    "    for fruit in fruit_names:\n",
    "        time.sleep(1)  # Wait for 1 second before printing the next fruit\n",
    "        yield fruit\n",
    "\n",
    "for fruit in come_up_with_fruit_names():\n",
    "    print(fruit)  # Prints each fruit name every 1 second"
   ]
  },
  {
   "cell_type": "code",
   "execution_count": 45,
   "id": "d3f5d237",
   "metadata": {},
   "outputs": [
    {
     "name": "stdout",
     "output_type": "stream",
     "text": [
      "Author 1\n",
      "Author 1\n",
      "Author 3\n",
      "Author 4\n"
     ]
    }
   ],
   "source": [
    "def authors_generator():\n",
    "    for author in [book.get(\"author\") for book in books if book.get(\"author\") is not None]:\n",
    "        yield author\n",
    "\n",
    "for author in authors_generator():\n",
    "    print(author)  # Prints each author"
   ]
  },
  {
   "cell_type": "code",
   "execution_count": 46,
   "id": "65512410",
   "metadata": {},
   "outputs": [
    {
     "name": "stdout",
     "output_type": "stream",
     "text": [
      "Author 3\n",
      "Author 4\n",
      "Author 1\n"
     ]
    }
   ],
   "source": [
    "def unique_authors_generator():\n",
    "    yield from set(book.get(\"author\") for book in books if book.get(\"author\") is not None)\n",
    "\n",
    "for author in unique_authors_generator():\n",
    "    print(author)  # Prints each unique author    \n"
   ]
  },
  {
   "cell_type": "code",
   "execution_count": 47,
   "id": "271533b6",
   "metadata": {},
   "outputs": [
    {
     "name": "stdout",
     "output_type": "stream",
     "text": [
      "she flies cat quick he jumps cat quick she runs bird quick she jumps bird happy he jumps bird lazy they runs cat happy they runs dog quick she flies dog quick she runs cat quick they jumps bird quick she jumps bird happy he runs cat lazy she flies dog lazy she flies bird happy they runs cat quick they flies bird quick she runs cat happy he jumps cat lazy she flies bird lazy she flies cat lazy he jumps cat happy he flies bird happy he flies bird happy she jumps cat quick she flies cat lazy they runs dog quick she jumps dog lazy she runs cat quick she jumps bird lazy they jumps cat quick he flies cat happy she jumps cat lazy he runs cat quick he runs bird happy they flies dog lazy th"
     ]
    },
    {
     "ename": "KeyboardInterrupt",
     "evalue": "",
     "output_type": "error",
     "traceback": [
      "\u001b[31m---------------------------------------------------------------------------\u001b[39m",
      "\u001b[31mKeyboardInterrupt\u001b[39m                         Traceback (most recent call last)",
      "\u001b[36mCell\u001b[39m\u001b[36m \u001b[39m\u001b[32mIn[47]\u001b[39m\u001b[32m, line 22\u001b[39m\n\u001b[32m     20\u001b[39m \u001b[38;5;28;01mfor\u001b[39;00m letter \u001b[38;5;129;01min\u001b[39;00m infinite_sentence_generator():\n\u001b[32m     21\u001b[39m     \u001b[38;5;28mprint\u001b[39m(letter, end=\u001b[33m\"\u001b[39m\u001b[33m\"\u001b[39m, flush=\u001b[38;5;28;01mTrue\u001b[39;00m)  \u001b[38;5;66;03m# Print each letter without a newline\u001b[39;00m\n\u001b[32m---> \u001b[39m\u001b[32m22\u001b[39m     \u001b[43mtime\u001b[49m\u001b[43m.\u001b[49m\u001b[43msleep\u001b[49m\u001b[43m(\u001b[49m\u001b[32;43m0.02\u001b[39;49m\u001b[43m)\u001b[49m  \u001b[38;5;66;03m# Wait for 0.02 seconds before printing the next letter\u001b[39;00m\n",
      "\u001b[31mKeyboardInterrupt\u001b[39m: "
     ]
    }
   ],
   "source": [
    "import random\n",
    "import time\n",
    "\n",
    "pronouns = [\"he\", \"she\", \"they\"]\n",
    "nouns = [\"cat\", \"dog\", \"bird\"]\n",
    "verbs = [\"jumps\", \"runs\", \"flies\"]\n",
    "adjectives = [\"quick\", \"lazy\", \"happy\"]\n",
    "\n",
    "def infinite_sentence_generator():\n",
    "    while True:\n",
    "        yield from random.choice(pronouns)\n",
    "        yield \" \"\n",
    "        yield from random.choice(verbs)\n",
    "        yield \" \"\n",
    "        yield from random.choice(nouns)\n",
    "        yield \" \"\n",
    "        yield from random.choice(adjectives)\n",
    "        yield \" \"\n",
    "        \n",
    "for letter in infinite_sentence_generator():\n",
    "    print(letter, end=\"\", flush=True)  # Print each letter without a newline\n",
    "    time.sleep(0.02)  # Wait for 0.02 seconds before printing the next letter"
   ]
  },
  {
   "cell_type": "markdown",
   "id": "e81d0598",
   "metadata": {},
   "source": [
    "FILES"
   ]
  },
  {
   "cell_type": "code",
   "execution_count": 50,
   "id": "96a7cf74",
   "metadata": {},
   "outputs": [
    {
     "name": "stdout",
     "output_type": "stream",
     "text": [
      "Input file data/input.txt exists.\n",
      "Text files in the current directory:\n",
      "data/input.txt\n",
      "data/output.txt\n"
     ]
    }
   ],
   "source": [
    "from pathlib import Path\n",
    "import glob\n",
    "\n",
    "# Define file paths using Path\n",
    "input_file = Path(\"data/input.txt\")\n",
    "output_file = Path(\"data/output.txt\")\n",
    "\n",
    "# Check if the input file exists\n",
    "if input_file.exists():\n",
    "    print(f\"Input file {input_file} exists.\")\n",
    "    with open(input_file, 'r') as input_file, open(output_file, 'w') as output_file:\n",
    "        for line in input_file:\n",
    "            output_file.write(line.upper())    \n",
    "else:\n",
    "    print(f\"Input file {input_file} does not exist.\")\n",
    "\n",
    "# List all .txt files in the current directory\n",
    "txt_files = glob.glob(\"data/*.txt\")\n",
    "print(\"Text files in the current directory:\")\n",
    "for file in txt_files:\n",
    "    print(file)\n"
   ]
  },
  {
   "cell_type": "code",
   "execution_count": 53,
   "id": "7b1f7d3a",
   "metadata": {},
   "outputs": [
    {
     "name": "stdout",
     "output_type": "stream",
     "text": [
      "2020 Toyota Corolla\n",
      "Toyota Corolla is starting.\n",
      "Toyota Corolla is stopping.\n",
      "=======================\n",
      "2022 Tesla Model S with a 75-kWh battery.\n",
      "Tesla Model S is starting.\n",
      "Tesla Model S is charging.\n",
      "=======================\n",
      "Woof!\n",
      "Meow!\n",
      "Moo!\n",
      "=======================\n",
      "1000\n",
      "Deposited 500. New balance: 1500\n",
      "Withdrew 200. New balance: 1300\n",
      "123456789\n",
      "=======================\n",
      "Rectangle area: 50\n",
      "Circle area: 153.93804002589985\n",
      "Rectangle perimeter: 30\n",
      "Circle perimeter: 43.982297150257104\n"
     ]
    }
   ],
   "source": [
    "# Class in python\n",
    "\n",
    "class Car:\n",
    "    def __init__(self, make, model, year):\n",
    "        self.make = make\n",
    "        self.model = model\n",
    "        self.year = year\n",
    "\n",
    "    def start(self):\n",
    "        print(f\"{self.make} {self.model} is starting.\")\n",
    "\n",
    "    def stop(self):\n",
    "        print(f\"{self.make} {self.model} is stopping.\")\n",
    "\n",
    "    def describe(self):\n",
    "        return f\"{self.year} {self.make} {self.model}\"\n",
    "    \n",
    "my_car = Car(\"Toyota\", \"Corolla\", 2020)\n",
    "\n",
    "print(my_car.describe())  # Output: 2020 Toyota Corolla\n",
    "my_car.start()  # Output: Toyota Corolla is starting.\n",
    "my_car.stop()  # Output: Toyota Corolla is stopping.\n",
    "\n",
    "print(\"=======================\")\n",
    "\n",
    "#Inheritance in Python\n",
    "class ElectricCar(Car):\n",
    "    def __init__(self, make, model, year, battery_size=75):\n",
    "        super().__init__(make, model, year)\n",
    "        self.battery_size = battery_size\n",
    "\n",
    "    def charge(self):\n",
    "        print(f\"{self.make} {self.model} is charging.\")\n",
    "\n",
    "    def describe(self):\n",
    "        return f\"{self.year} {self.make} {self.model} with a {self.battery_size}-kWh battery.\"\n",
    "my_electric_car = ElectricCar(\"Tesla\", \"Model S\", 2022)\n",
    "print(my_electric_car.describe())  # Output: 2022 Tesla Model S with a 75-kWh battery.\n",
    "my_electric_car.start()  # Output: Tesla Model S is starting.\n",
    "my_electric_car.charge()  # Output: Tesla Model S is charging.\n",
    "\n",
    "print(\"=======================\")\n",
    "\n",
    "# Polymorphism in Python\n",
    "class Dog:\n",
    "    def sound(self):\n",
    "        return \"Woof!\"\n",
    "class Cat:\n",
    "    def sound(self):\n",
    "        return \"Meow!\"\n",
    "class Cow:\n",
    "    def sound(self):\n",
    "        return \"Moo!\"\n",
    "def animal_sound(animal):\n",
    "    print(animal.sound())\n",
    "dog = Dog()\n",
    "cat = Cat()\n",
    "cow = Cow()\n",
    "animal_sound(dog)  # Output: Woof!\n",
    "animal_sound(cat)  # Output: Meow!\n",
    "animal_sound(cow)  # Output: Moo!\n",
    "\n",
    "print(\"=======================\")\n",
    "\n",
    "#Encapsulation in Python\n",
    "class BankAccount:\n",
    "    def __init__(self, account_number, balance=0):\n",
    "        self.__account_number = account_number\n",
    "        self.__balance = balance\n",
    "\n",
    "    def deposit(self, amount):\n",
    "        if amount > 0:\n",
    "            self.__balance += amount\n",
    "            print(f\"Deposited {amount}. New balance: {self.__balance}\")\n",
    "        else:\n",
    "            print(\"Deposit amount must be positive.\")\n",
    "\n",
    "    def withdraw(self, amount):\n",
    "        if 0 < amount <= self.__balance:\n",
    "            self.__balance -= amount\n",
    "            print(f\"Withdrew {amount}. New balance: {self.__balance}\")\n",
    "        else:\n",
    "            print(\"Withdrawal amount must be positive and less than or equal to the balance.\")\n",
    "    def get_balance(self):\n",
    "        return self.__balance\n",
    "    def get_account_number(self):\n",
    "        return self.__account_number\n",
    "account = BankAccount(\"123456789\", 1000)\n",
    "print(account.get_balance())  # Output: 1000\n",
    "account.deposit(500)  # Output: Deposited 500. New balance: 1500\n",
    "account.withdraw(200)  # Output: Withdrew 200. New balance: 1300\n",
    "print(account.get_account_number())  # Output: 123456789\n",
    "\n",
    "print(\"=======================\")\n",
    "\n",
    "#Abstraction in Python\n",
    "from abc import ABC, abstractmethod\n",
    "class Shape(ABC):\n",
    "    @abstractmethod\n",
    "    def area(self):\n",
    "        pass\n",
    "\n",
    "    @abstractmethod\n",
    "    def perimeter(self):\n",
    "        pass\n",
    "class Rectangle(Shape):\n",
    "    def __init__(self, width, height):\n",
    "        self.width = width\n",
    "        self.height = height\n",
    "\n",
    "    def area(self):\n",
    "        return self.width * self.height\n",
    "\n",
    "    def perimeter(self):\n",
    "        return 2 * (self.width + self.height)\n",
    "class Circle(Shape):\n",
    "    def __init__(self, radius):\n",
    "        self.radius = radius\n",
    "\n",
    "    def area(self):\n",
    "        return math.pi * self.radius ** 2\n",
    "\n",
    "    def perimeter(self):\n",
    "        return 2 * math.pi * self.radius\n",
    "rectangle = Rectangle(5, 10)\n",
    "circle = Circle(7)\n",
    "print(f\"Rectangle area: {rectangle.area()}\")  # Output: Rectangle area: 50\n",
    "print(f\"Circle area: {circle.area()}\")  # Output: Circle area: 153.93804002589985\n",
    "print(f\"Rectangle perimeter: {rectangle.perimeter()}\")  # Output: Rectangle perimeter: 30\n",
    "print(f\"Circle perimeter: {circle.perimeter()}\")  # Output: Circle perimeter: 43.982297150257104"
   ]
  },
  {
   "cell_type": "code",
   "execution_count": null,
   "id": "14a5db72",
   "metadata": {},
   "outputs": [
    {
     "name": "stdout",
     "output_type": "stream",
     "text": [
      "Object serialized to person.pkl\n",
      "Person(name=Alice, age=30)\n",
      "Object deserialized from person.pkl\n",
      "=======================\n",
      "{\"name\": \"Alice\", \"age\": 30}\n",
      "{'name': 'Alice', 'age': 30}\n",
      "Alice\n",
      "30\n"
     ]
    }
   ],
   "source": [
    "# Pickling(Serialising) and Unpickling(De-serialising) Objects in Python\n",
    "class Person:\n",
    "    def __init__(self, name, age):\n",
    "        self.name = name\n",
    "        self.age = age\n",
    "\n",
    "    def __repr__(self):\n",
    "        return f\"Person(name={self.name}, age={self.age})\"\n",
    "# Create an instance of the Person class\n",
    "person = Person(\"Alice\", 30)\n",
    "\n",
    "import pickle\n",
    "\n",
    "# Serialize the object to a file\n",
    "with open(\"person.pkl\", \"wb\") as file:\n",
    "    pickle.dump(person, file)\n",
    "    print(\"Object serialized to person.pkl\")\n",
    "\n",
    "# Deserialize the object from the file\n",
    "with open(\"person.pkl\", \"rb\") as file:\n",
    "    loaded_person = pickle.load(file)\n",
    "    print(loaded_person)  # Output: Person(name=Alice, age=30)\n",
    "    print(\"Object deserialized from person.pkl\")\n",
    "\n",
    "print(\"=======================\")\n",
    "\n",
    "# Alternative to Pickling\n",
    "import json\n",
    "class Person:\n",
    "    def __init__(self, name, age):\n",
    "        self.name = name\n",
    "        self.age = age\n",
    "\n",
    "    def to_dict(self):\n",
    "        return {\"name\": self.name, \"age\": self.age}\n",
    "\n",
    "    @classmethod\n",
    "    def from_dict(cls, data):\n",
    "        return cls(data[\"name\"], data[\"age\"])\n",
    "# Create an instance of the Person class\n",
    "person = Person(\"Alice\", 30)\n",
    "\n",
    "# Serialize the object to a JSON string\n",
    "json_string = json.dumps(person.to_dict())  \n",
    "print(json_string)  # Output: {\"name\": \"Alice\", \"age\": 30}\n",
    "\n",
    "# Deserialize the JSON string back to an object\n",
    "loaded_person_data = json.loads(json_string)\n",
    "print(loaded_person_data)  # Output: {'name': 'Alice', 'age': 30}\n",
    "loaded_person = Person.from_dict(loaded_person_data)\n",
    "print(loaded_person.name)  # Output: Alice\n",
    "print(loaded_person.age)  # Output: 30\n"
   ]
  }
 ],
 "metadata": {
  "kernelspec": {
   "display_name": ".venv",
   "language": "python",
   "name": "python3"
  },
  "language_info": {
   "codemirror_mode": {
    "name": "ipython",
    "version": 3
   },
   "file_extension": ".py",
   "mimetype": "text/x-python",
   "name": "python",
   "nbconvert_exporter": "python",
   "pygments_lexer": "ipython3",
   "version": "3.12.9"
  }
 },
 "nbformat": 4,
 "nbformat_minor": 5
}
