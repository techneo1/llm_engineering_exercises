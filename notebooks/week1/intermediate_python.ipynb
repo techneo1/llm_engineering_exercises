{
 "cells": [
  {
   "cell_type": "code",
   "execution_count": null,
   "id": "201ffb3c",
   "metadata": {},
   "outputs": [
    {
     "name": "stdout",
     "output_type": "stream",
     "text": [
      "4.0\n",
      "[1 2 3]\n",
      "3\n"
     ]
    }
   ],
   "source": [
    "# Importing Modules and Packages in Python\n",
    "import math\n",
    "print(math.sqrt(16))\n",
    "\n",
    "import numpy as np\n",
    "print(np.array([1, 2, 3]))\n",
    "\n",
    "from random import randint\n",
    "print(randint(1, 10))"
   ]
  },
  {
   "cell_type": "code",
   "execution_count": 9,
   "id": "24efc7c3",
   "metadata": {},
   "outputs": [
    {
     "name": "stdout",
     "output_type": "stream",
     "text": [
      "Hello, Stranger!\n",
      "Hello, Srikanth!\n"
     ]
    }
   ],
   "source": [
    "# Functions in Python\n",
    "def greet(name=\"Stranger\"):\n",
    "    \"\"\"Function to greet a person\"\"\"\n",
    "    return f\"Hello, {name}!\"\n",
    "\n",
    "print(greet())\n",
    "print(greet(\"Srikanth\"))\n"
   ]
  },
  {
   "cell_type": "code",
   "execution_count": null,
   "id": "68983198",
   "metadata": {},
   "outputs": [
    {
     "name": "stdout",
     "output_type": "stream",
     "text": [
      "12\n",
      "Hello Python!\n",
      "['Hello', 'World!']\n",
      "Hello World!\n",
      "Hello\n",
      "======================\n",
      "Hello\n",
      "World!\n",
      "olleH\n",
      "!\n"
     ]
    }
   ],
   "source": [
    "# Basic String Manipulation in Python\n",
    "greeting = \"Hello World!\"\n",
    "print(len(greeting))\n",
    "\n",
    "print(greeting.replace(\"World\", \"Python\"))\n",
    "\n",
    "print(greeting.split())\n",
    "\n",
    "print(\" \".join(greeting.split()))\n",
    "\n",
    "formatted_string = \"           Hello            \"\n",
    "print(formatted_string.strip())\n",
    "print(\"======================\")\n",
    "print(greeting[0:5])\n",
    "print(greeting[6:])\n",
    "print(greeting[4::-1])\n",
    "print(greeting[-1])"
   ]
  },
  {
   "cell_type": "code",
   "execution_count": 26,
   "id": "9e39e408",
   "metadata": {},
   "outputs": [
    {
     "name": "stdout",
     "output_type": "stream",
     "text": [
      "This is a\n",
      "multiline string\n",
      "that spans\n",
      "multiple lines.\n",
      "This is a multiline string that spans multiple lines.\n",
      "This is a docstring\n",
      "    that describes the function.\n",
      "    It can span multiple lines.\n"
     ]
    }
   ],
   "source": [
    "# Multiline Strings in Python\n",
    "\n",
    "# using triple quotes\n",
    "multiline_string1 = \"\"\"This is a\n",
    "multiline string\n",
    "that spans\n",
    "multiple lines.\"\"\"\n",
    "print(multiline_string1)\n",
    "\n",
    "# using backslash\n",
    "multiline_string2 = \"This is a \\\n",
    "multiline string \\\n",
    "that spans \\\n",
    "multiple lines.\"\n",
    "print(multiline_string2)\n",
    "\n",
    "# triple quotes as docstring\n",
    "def example_function():\n",
    "    \"\"\"This is a docstring\n",
    "    that describes the function.\n",
    "    It can span multiple lines.\"\"\"\n",
    "    pass\n",
    "print(example_function.__doc__)"
   ]
  },
  {
   "cell_type": "code",
   "execution_count": null,
   "id": "b03131cc",
   "metadata": {},
   "outputs": [
    {
     "name": "stdout",
     "output_type": "stream",
     "text": [
      "My name is Srikanth and I am 30 years old.\n",
      "The price is $10.51\n",
      "Current time is 2025-05-03 11:12:47\n"
     ]
    }
   ],
   "source": [
    "# Formatting String literals in Python\n",
    "name = \"Srikanth\"\n",
    "age = 30\n",
    "print(f\"My name is {name} and I am {age} years old.\")\n",
    "\n",
    "price = 10.51123\n",
    "formatted_price = f\"The price is ${price:.2f}\" \n",
    "print(formatted_price)\n",
    "\n",
    "from datetime import datetime\n",
    "current_time = datetime.now()\n",
    "formatted_time = f\"Current time is {current_time:%Y-%m-%d %H:%M:%S}\"\n",
    "print(formatted_time)\n"
   ]
  },
  {
   "cell_type": "code",
   "execution_count": null,
   "id": "d5cad07b",
   "metadata": {},
   "outputs": [],
   "source": [
    "# Lists in Python\n",
    "fruits = [\"apple\", \"banana\", \"cherry\"]\n",
    "print(fruits[0])  # Accessing elements\n",
    "print(fruits[1:3])  # Slicing\n",
    "print(fruits[-1])  # Negative indexing\n",
    "fruits.append(\"orange\")  # Adding elements\n",
    "print(fruits)\n",
    "fruits.remove(\"banana\")  # Removing elements\n",
    "print(fruits)\n",
    "fruits.sort()  # Sorting\n",
    "print(fruits)"
   ]
  }
 ],
 "metadata": {
  "kernelspec": {
   "display_name": ".venv",
   "language": "python",
   "name": "python3"
  },
  "language_info": {
   "codemirror_mode": {
    "name": "ipython",
    "version": 3
   },
   "file_extension": ".py",
   "mimetype": "text/x-python",
   "name": "python",
   "nbconvert_exporter": "python",
   "pygments_lexer": "ipython3",
   "version": "3.12.9"
  }
 },
 "nbformat": 4,
 "nbformat_minor": 5
}
