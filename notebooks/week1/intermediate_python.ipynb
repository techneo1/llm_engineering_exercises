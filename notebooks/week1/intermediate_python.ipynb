{
 "cells": [
  {
   "cell_type": "code",
   "execution_count": null,
   "id": "201ffb3c",
   "metadata": {},
   "outputs": [
    {
     "name": "stdout",
     "output_type": "stream",
     "text": [
      "4.0\n",
      "[1 2 3]\n",
      "3\n"
     ]
    }
   ],
   "source": [
    "# Importing Modules and Packages in Python\n",
    "import math\n",
    "print(math.sqrt(16))\n",
    "\n",
    "import numpy as np\n",
    "print(np.array([1, 2, 3]))\n",
    "\n",
    "from random import randint\n",
    "print(randint(1, 10))"
   ]
  },
  {
   "cell_type": "code",
   "execution_count": 9,
   "id": "24efc7c3",
   "metadata": {},
   "outputs": [
    {
     "name": "stdout",
     "output_type": "stream",
     "text": [
      "Hello, Stranger!\n",
      "Hello, Srikanth!\n"
     ]
    }
   ],
   "source": [
    "# Functions in Python\n",
    "def greet(name=\"Stranger\"):\n",
    "    \"\"\"Function to greet a person\"\"\"\n",
    "    return f\"Hello, {name}!\"\n",
    "\n",
    "print(greet())\n",
    "print(greet(\"Srikanth\"))\n"
   ]
  },
  {
   "cell_type": "code",
   "execution_count": null,
   "id": "68983198",
   "metadata": {},
   "outputs": [
    {
     "name": "stdout",
     "output_type": "stream",
     "text": [
      "12\n",
      "Hello Python!\n",
      "['Hello', 'World!']\n",
      "Hello World!\n",
      "Hello\n",
      "======================\n",
      "Hello\n",
      "World!\n",
      "olleH\n",
      "!\n"
     ]
    }
   ],
   "source": [
    "# Basic String Manipulation in Python\n",
    "greeting = \"Hello World!\"\n",
    "print(len(greeting))\n",
    "\n",
    "print(greeting.replace(\"World\", \"Python\"))\n",
    "\n",
    "print(greeting.split())\n",
    "\n",
    "print(\" \".join(greeting.split()))\n",
    "\n",
    "formatted_string = \"           Hello            \"\n",
    "print(formatted_string.strip())\n",
    "print(\"======================\")\n",
    "print(greeting[0:5])\n",
    "print(greeting[6:])\n",
    "print(greeting[4::-1])\n",
    "print(greeting[-1])"
   ]
  }
 ],
 "metadata": {
  "kernelspec": {
   "display_name": ".venv",
   "language": "python",
   "name": "python3"
  },
  "language_info": {
   "codemirror_mode": {
    "name": "ipython",
    "version": 3
   },
   "file_extension": ".py",
   "mimetype": "text/x-python",
   "name": "python",
   "nbconvert_exporter": "python",
   "pygments_lexer": "ipython3",
   "version": "3.12.9"
  }
 },
 "nbformat": 4,
 "nbformat_minor": 5
}
