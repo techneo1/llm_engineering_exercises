{
 "cells": [
  {
   "cell_type": "code",
   "execution_count": null,
   "id": "201ffb3c",
   "metadata": {},
   "outputs": [
    {
     "name": "stdout",
     "output_type": "stream",
     "text": [
      "4.0\n",
      "[1 2 3]\n",
      "3\n"
     ]
    }
   ],
   "source": [
    "# Importing Modules and Packages in Python\n",
    "import math\n",
    "print(math.sqrt(16))\n",
    "\n",
    "import numpy as np\n",
    "print(np.array([1, 2, 3]))\n",
    "\n",
    "from random import randint\n",
    "print(randint(1, 10))"
   ]
  }
 ],
 "metadata": {
  "kernelspec": {
   "display_name": ".venv",
   "language": "python",
   "name": "python3"
  },
  "language_info": {
   "codemirror_mode": {
    "name": "ipython",
    "version": 3
   },
   "file_extension": ".py",
   "mimetype": "text/x-python",
   "name": "python",
   "nbconvert_exporter": "python",
   "pygments_lexer": "ipython3",
   "version": "3.12.9"
  }
 },
 "nbformat": 4,
 "nbformat_minor": 5
}
