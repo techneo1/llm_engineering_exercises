{
 "cells": [
  {
   "cell_type": "markdown",
   "id": "fef0afdd",
   "metadata": {},
   "source": [
    "## Basic Webscraper using BeautifulSoup"
   ]
  },
  {
   "cell_type": "code",
   "execution_count": 22,
   "id": "5c142ee9",
   "metadata": {},
   "outputs": [
    {
     "name": "stdout",
     "output_type": "stream",
     "text": [
      "Home - Edward Donner\n",
      "Home\n",
      "Connect Four\n",
      "Outsmart\n",
      "An arena that pits LLMs against each other in a battle of diplomacy and deviousness\n",
      "About\n",
      "Posts\n",
      "Well, hi there.\n",
      "I’m Ed. I like writing code and experimenting with LLMs, and hopefully you’re here because you do too. I also enjoy DJing (but I’m badly out of practice), amateur electronic music production (\n",
      "very\n",
      "amateur) and losing myself in\n",
      "Hacker News\n",
      ", nodding my head sagely to things I only half understand.\n",
      "I’m the co-founder and CTO of\n",
      "Nebula.io\n",
      ". We’re applying AI to a field where it can make a massive, positive impact: helping people discover their potential and pursue their reason for being. Recruiters use our product today to source, understand, engage and manage talent. I’m previously the founder and CEO of AI startup untapt,\n",
      "acquired in 2021\n",
      ".\n",
      "We work with groundbreaking, proprietary LLMs verticalized for talent, we’ve\n",
      "patented\n",
      "our matching model, and our award-winning platform has happy customers and tons of press coverage.\n",
      "Connect\n",
      "with me for more!\n",
      "April 21, 2025\n",
      "The Complete Agentic AI Engineering Course\n",
      "January 23, 2025\n",
      "LLM Workshop – Hands-on with Agents – resources\n",
      "December 21, 2024\n",
      "Welcome, SuperDataScientists!\n",
      "November 13, 2024\n",
      "Mastering AI and LLM Engineering – Resources\n",
      "Navigation\n",
      "Home\n",
      "Connect Four\n",
      "Outsmart\n",
      "An arena that pits LLMs against each other in a battle of diplomacy and deviousness\n",
      "About\n",
      "Posts\n",
      "Get in touch\n",
      "ed [at] edwarddonner [dot] com\n",
      "www.edwarddonner.com\n",
      "Follow me\n",
      "LinkedIn\n",
      "Twitter\n",
      "Facebook\n",
      "Subscribe to newsletter\n",
      "Type your email…\n",
      "Subscribe\n"
     ]
    }
   ],
   "source": [
    "import requests\n",
    "from bs4 import BeautifulSoup\n",
    "\n",
    "headers = {\n",
    " \"User-Agent\": \"Mozilla/5.0 (Windows NT 10.0; Win64; x64) AppleWebKit/537.36 (KHTML, like Gecko) Chrome/117.0.0.0 Safari/537.36\"\n",
    "}\n",
    "\n",
    "class Website:\n",
    "\n",
    "    def __init__(self, url):\n",
    "        \"\"\"\n",
    "        Create this Website object from the given url using the BeautifulSoup library\n",
    "        \"\"\"\n",
    "        self.url = url\n",
    "        response = requests.get(url, headers=headers)\n",
    "        soup = BeautifulSoup(response.content, 'html.parser')\n",
    "        self.title = soup.title.string if soup.title else \"No title found\"\n",
    "        for irrelevant in soup.body([\"script\", \"style\", \"img\", \"input\"]):\n",
    "            irrelevant.decompose()\n",
    "        self.text = soup.body.get_text(separator=\"\\n\", strip=True)\n",
    "\n",
    "ed = Website(\"https://edwarddonner.com\")\n",
    "print(ed.title)\n",
    "print(ed.text)"
   ]
  },
  {
   "cell_type": "markdown",
   "id": "6d45274f",
   "metadata": {},
   "source": [
    "## Test local llm\n",
    "ollama pull llama3.2\n",
    "ollama run llama3.2"
   ]
  },
  {
   "cell_type": "code",
   "execution_count": 23,
   "id": "7aa3686d",
   "metadata": {},
   "outputs": [
    {
     "name": "stdout",
     "output_type": "stream",
     "text": [
      "Assistant: I'm functioning properly.\n"
     ]
    }
   ],
   "source": [
    "import os\n",
    "from dotenv import load_dotenv\n",
    "import requests\n",
    "\n",
    "load_dotenv()\n",
    "\n",
    "messages = [{\n",
    "    \"role\": \"system\",\n",
    "    \"content\":\n",
    "    \"You are a helpful assistant. You reply with very short answers.\"\n",
    "}, {\"role\": \"user\", \"content\": 'How are you'}]\n",
    "\n",
    "payload = {\n",
    "    \"model\": \"llama3.2\",\n",
    "    \"messages\": messages,\n",
    "    \"stream\": False,\n",
    "}\n",
    "\n",
    "response = requests.post(os.environ.get(\"OLLAMA_API\"), \n",
    "                         headers={\"Content-Type\": \"application/json\"}, \n",
    "                         json=payload)\n",
    "\n",
    "print (\"Assistant:\", response.json()['message']['content'])"
   ]
  },
  {
   "cell_type": "markdown",
   "id": "d3ab9961",
   "metadata": {},
   "source": [
    "## Basic Static Website Summariser using local llm"
   ]
  },
  {
   "cell_type": "code",
   "execution_count": 24,
   "id": "e4fdf130",
   "metadata": {},
   "outputs": [],
   "source": [
    "from IPython.display import display, Markdown\n",
    "\n",
    "system_prompt = \"You are an assistant that analyzes the contents of a website \\\n",
    "and provides a short summary, ignoring text that might be navigation related. \\\n",
    "Respond in markdown.\"\n",
    "\n",
    "def user_prompt_for(website):\n",
    "    user_prompt = f\"You are looking at a website titled {website.title}\"\n",
    "    user_prompt += \"\\nThe contents of this website is as follows; \\\n",
    "please provide a short summary of this website in markdown. \\\n",
    "If it includes news or announcements, then summarize these too.\\n\\n\"\n",
    "    user_prompt += website.text\n",
    "    return user_prompt\n",
    "\n",
    "def messages_for(website):\n",
    "    return [\n",
    "        {\"role\": \"system\", \"content\": system_prompt},\n",
    "        {\"role\": \"user\", \"content\": user_prompt_for(website)}\n",
    "    ]\n",
    "\n",
    "def summarize(url):\n",
    "    website = Website(url)\n",
    "\n",
    "    payload = {\n",
    "        \"model\": \"llama3.2\",\n",
    "        \"messages\": messages_for(website),\n",
    "        \"stream\": False,\n",
    "    }\n",
    "\n",
    "    response = requests.post(os.environ.get(\"OLLAMA_API\"), \n",
    "                         headers={\"Content-Type\": \"application/json\"}, \n",
    "                         json=payload)\n",
    "    return response.json()['message']['content']\n",
    "\n",
    "def display_summary(url):\n",
    "    summary = summarize(url)\n",
    "    display(Markdown(summary))"
   ]
  },
  {
   "cell_type": "code",
   "execution_count": 25,
   "id": "d46a172b",
   "metadata": {},
   "outputs": [
    {
     "data": {
      "text/markdown": [
       "**Summary**\n",
       "===============\n",
       "\n",
       "### About the Author and Organization\n",
       "\n",
       "The website is about Edward Donner, a co-founder and CTO of Nebula.io, an AI startup that applies AI to help people discover their potential. He also shares his personal interests, including coding, DJing, and reading Hacker News.\n",
       "\n",
       "### Recent Announcements and News\n",
       "\n",
       "* **April 21, 2025:** The Complete Agentic AI Engineering Course\n",
       "* **January 23, 2025:** LLM Workshop – Hands-on with Agents – resources\n",
       "* **December 21, 2024:** Welcome, SuperDataScientists!\n",
       "* **November 13, 2024:** Mastering AI and LLM Engineering – Resources\n",
       "\n",
       "### Featured Content\n",
       "\n",
       "* **Outsmart**: An arena that pits LLMs against each other in a battle of diplomacy and deviousness"
      ],
      "text/plain": [
       "<IPython.core.display.Markdown object>"
      ]
     },
     "metadata": {},
     "output_type": "display_data"
    }
   ],
   "source": [
    "display_summary(\"https://edwarddonner.com\")"
   ]
  },
  {
   "cell_type": "code",
   "execution_count": 26,
   "id": "95c140d6",
   "metadata": {},
   "outputs": [
    {
     "data": {
      "text/markdown": [
       "# Summary of CNN Website\n",
       "\n",
       "## Overview\n",
       "The CNN website is a news and information portal that provides comprehensive coverage of global events, politics, business, health, entertainment, and more.\n",
       "\n",
       "## Latest News\n",
       "- The United States has imposed new tariffs on millions of Americans' purchases.\n",
       "- China's electric vehicle industry is preparing to take on the world.\n",
       "- Mondo Duplantis talks exclusively with CNN about his record-breaking year.\n",
       "- Andrew Trump proposes a $1 trillion defense budget that slashes education, foreign aid, environment, health, and public assistance.\n",
       "\n",
       "## Topics\n",
       "The website features a wide range of topics, including:\n",
       "- Space and science\n",
       "- Global travel\n",
       "- Business\n",
       "- Health and wellness\n",
       "- Technology\n",
       "- Politics\n",
       "- Entertainment\n",
       "\n",
       "## Live TV and Audio\n",
       "- Users can watch live CNN TV channels.\n",
       "- Access various podcasts, including \"Chasing Life with Dr. Sanjay Gupta\" and \"The Assignment with Audie Cornish\".\n",
       "\n",
       "## Interactive Features\n",
       "- The website offers interactive games like Crosswords, Sudoku, and Jumble Crossword.\n",
       "- Viewers can explore the latest news in photos.\n",
       "\n",
       "## Subscription and Settings\n",
       "- Users can sign up for newsletters and topics they follow.\n",
       "- Adjust settings to customize their viewing experience."
      ],
      "text/plain": [
       "<IPython.core.display.Markdown object>"
      ]
     },
     "metadata": {},
     "output_type": "display_data"
    }
   ],
   "source": [
    "display_summary(\"https://cnn.com\")"
   ]
  },
  {
   "cell_type": "code",
   "execution_count": 27,
   "id": "b684557e",
   "metadata": {},
   "outputs": [
    {
     "data": {
      "text/markdown": [
       "# Anthropic Website Summary\n",
       "=====================================\n",
       "\n",
       "## Mission and Values\n",
       "\n",
       "Anthropic aims to build AI that serves humanity's long-term well-being. They prioritize responsible development, focusing on tools with human benefit at their foundation.\n",
       "\n",
       "## Products and Research\n",
       "\n",
       "*   **Claude 3.7 Sonnet**: Their most intelligent AI model, available for use.\n",
       "*   **Research Overview**: Daily research, policy work, and product design aimed at demonstrating responsible AI development.\n",
       "*   **Alignment Science**: Studies on aligning large language models with human values.\n",
       "\n",
       "## News and Announcements\n",
       "\n",
       "### Recent Articles\n",
       "\n",
       "*   **Mar 27, 2025: Anthropic Economic Index** - Societal impacts of AI\n",
       "*   **Mar 27, 2025: Tracing the thoughts of a large language model** - Interpretability research\n",
       "*   **Feb 24, 2025: Claude's extended thinking** - Product announcement\n",
       "\n",
       "### Open Roles\n",
       "\n",
       "Anthropic is seeking help to build the future of safe AI. Check out open roles on their website.\n",
       "\n",
       "## FAQs and Resources\n",
       "\n",
       "*   **Claude Code**: Available for use.\n",
       "*   **API Platform**: Developer documentation and pricing plans.\n",
       "*   **Research Overview**: Learn more about Anthropic's research efforts.\n",
       "\n",
       "### Partnerships\n",
       "\n",
       "Anthropic has partnerships with Google Cloud's Vertex AI and Amazon Bedrock."
      ],
      "text/plain": [
       "<IPython.core.display.Markdown object>"
      ]
     },
     "metadata": {},
     "output_type": "display_data"
    }
   ],
   "source": [
    "display_summary(\"https://anthropic.com\")"
   ]
  }
 ],
 "metadata": {
  "kernelspec": {
   "display_name": ".venv",
   "language": "python",
   "name": "python3"
  },
  "language_info": {
   "codemirror_mode": {
    "name": "ipython",
    "version": 3
   },
   "file_extension": ".py",
   "mimetype": "text/x-python",
   "name": "python",
   "nbconvert_exporter": "python",
   "pygments_lexer": "ipython3",
   "version": "3.12.9"
  }
 },
 "nbformat": 4,
 "nbformat_minor": 5
}
