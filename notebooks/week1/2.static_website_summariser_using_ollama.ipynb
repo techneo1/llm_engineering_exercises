{
 "cells": [
  {
   "cell_type": "markdown",
   "id": "fef0afdd",
   "metadata": {},
   "source": [
    "### 1. Basic Webscraper using BeautifulSoup"
   ]
  },
  {
   "cell_type": "code",
   "execution_count": 23,
   "id": "5c142ee9",
   "metadata": {},
   "outputs": [
    {
     "name": "stdout",
     "output_type": "stream",
     "text": [
      "Home - Edward Donner\n",
      "Home\n",
      "Connect Four\n",
      "Outsmart\n",
      "An arena that pits LLMs against each other in a battle of diplomacy and deviousness\n",
      "About\n",
      "Posts\n",
      "Well, hi there.\n",
      "I’m Ed. I like writing code and experimenting with LLMs, and hopefully you’re here because you do too. I also enjoy DJing (but I’m badly out of practice), amateur electronic music production (\n",
      "very\n",
      "amateur) and losing myself in\n",
      "Hacker News\n",
      ", nodding my head sagely to things I only half understand.\n",
      "I’m the co-founder and CTO of\n",
      "Nebula.io\n",
      ". We’re applying AI to a field where it can make a massive, positive impact: helping people discover their potential and pursue their reason for being. Recruiters use our product today to source, understand, engage and manage talent. I’m previously the founder and CEO of AI startup untapt,\n",
      "acquired in 2021\n",
      ".\n",
      "We work with groundbreaking, proprietary LLMs verticalized for talent, we’ve\n",
      "patented\n",
      "our matching model, and our award-winning platform has happy customers and tons of press coverage.\n",
      "Connect\n",
      "with me for more!\n",
      "April 21, 2025\n",
      "The Complete Agentic AI Engineering Course\n",
      "January 23, 2025\n",
      "LLM Workshop – Hands-on with Agents – resources\n",
      "December 21, 2024\n",
      "Welcome, SuperDataScientists!\n",
      "November 13, 2024\n",
      "Mastering AI and LLM Engineering – Resources\n",
      "Navigation\n",
      "Home\n",
      "Connect Four\n",
      "Outsmart\n",
      "An arena that pits LLMs against each other in a battle of diplomacy and deviousness\n",
      "About\n",
      "Posts\n",
      "Get in touch\n",
      "ed [at] edwarddonner [dot] com\n",
      "www.edwarddonner.com\n",
      "Follow me\n",
      "LinkedIn\n",
      "Twitter\n",
      "Facebook\n",
      "Subscribe to newsletter\n",
      "Type your email…\n",
      "Subscribe\n"
     ]
    }
   ],
   "source": [
    "import requests\n",
    "from bs4 import BeautifulSoup\n",
    "\n",
    "headers = {\n",
    " \"User-Agent\": \"Mozilla/5.0 (Windows NT 10.0; Win64; x64) AppleWebKit/537.36 (KHTML, like Gecko) Chrome/117.0.0.0 Safari/537.36\"\n",
    "}\n",
    "\n",
    "class Website:\n",
    "\n",
    "    def __init__(self, url):\n",
    "        \"\"\"\n",
    "        Create this Website object from the given url using the BeautifulSoup library\n",
    "        \"\"\"\n",
    "        self.url = url\n",
    "        response = requests.get(url, headers=headers)\n",
    "        soup = BeautifulSoup(response.content, 'html.parser')\n",
    "        self.title = soup.title.string if soup.title else \"No title found\"\n",
    "        for irrelevant in soup.body([\"script\", \"style\", \"img\", \"input\"]):\n",
    "            irrelevant.decompose()\n",
    "        self.text = soup.body.get_text(separator=\"\\n\", strip=True)\n",
    "\n",
    "ed = Website(\"https://edwarddonner.com\")\n",
    "print(ed.title)\n",
    "print(ed.text)"
   ]
  },
  {
   "cell_type": "markdown",
   "id": "6d45274f",
   "metadata": {},
   "source": [
    "### 2. Testing a connection to Ollama"
   ]
  },
  {
   "cell_type": "code",
   "execution_count": 24,
   "id": "7aa3686d",
   "metadata": {},
   "outputs": [
    {
     "name": "stdout",
     "output_type": "stream",
     "text": [
      "Assistant: I'm functioning properly.\n"
     ]
    }
   ],
   "source": [
    "import os\n",
    "from dotenv import load_dotenv\n",
    "import requests\n",
    "\n",
    "load_dotenv()\n",
    "\n",
    "messages = [{\n",
    "    \"role\": \"system\",\n",
    "    \"content\":\n",
    "    \"You are a helpful assistant. You reply with very short answers.\"\n",
    "}, {\"role\": \"user\", \"content\": 'How are you'}]\n",
    "\n",
    "payload = {\n",
    "    \"model\": \"llama3.2\",\n",
    "    \"messages\": messages,\n",
    "    \"stream\": False,\n",
    "}\n",
    "\n",
    "response = requests.post(os.environ.get(\"OLLAMA_API\"), \n",
    "                         headers={\"Content-Type\": \"application/json\"}, \n",
    "                         json=payload)\n",
    "\n",
    "print (\"Assistant:\", response.json()['message']['content'])"
   ]
  },
  {
   "cell_type": "markdown",
   "id": "d3ab9961",
   "metadata": {},
   "source": [
    "### 3. Basic Prompts"
   ]
  },
  {
   "cell_type": "code",
   "execution_count": 25,
   "id": "e4fdf130",
   "metadata": {},
   "outputs": [
    {
     "data": {
      "text/plain": [
       "[{'role': 'system',\n",
       "  'content': 'You are an assistant that analyzes the contents of a website and provides a short summary, ignoring text that might be navigation related. Respond in markdown.'},\n",
       " {'role': 'user',\n",
       "  'content': 'You are looking at a website titled Home - Edward Donner\\nThe contents of this website is as follows; please provide a short summary of this website in markdown. If it includes news or announcements, then summarize these too.\\n\\nHome\\nConnect Four\\nOutsmart\\nAn arena that pits LLMs against each other in a battle of diplomacy and deviousness\\nAbout\\nPosts\\nWell, hi there.\\nI’m Ed. I like writing code and experimenting with LLMs, and hopefully you’re here because you do too. I also enjoy DJing (but I’m badly out of practice), amateur electronic music production (\\nvery\\namateur) and losing myself in\\nHacker News\\n, nodding my head sagely to things I only half understand.\\nI’m the co-founder and CTO of\\nNebula.io\\n. We’re applying AI to a field where it can make a massive, positive impact: helping people discover their potential and pursue their reason for being. Recruiters use our product today to source, understand, engage and manage talent. I’m previously the founder and CEO of AI startup untapt,\\nacquired in 2021\\n.\\nWe work with groundbreaking, proprietary LLMs verticalized for talent, we’ve\\npatented\\nour matching model, and our award-winning platform has happy customers and tons of press coverage.\\nConnect\\nwith me for more!\\nApril 21, 2025\\nThe Complete Agentic AI Engineering Course\\nJanuary 23, 2025\\nLLM Workshop – Hands-on with Agents – resources\\nDecember 21, 2024\\nWelcome, SuperDataScientists!\\nNovember 13, 2024\\nMastering AI and LLM Engineering – Resources\\nNavigation\\nHome\\nConnect Four\\nOutsmart\\nAn arena that pits LLMs against each other in a battle of diplomacy and deviousness\\nAbout\\nPosts\\nGet in touch\\ned [at] edwarddonner [dot] com\\nwww.edwarddonner.com\\nFollow me\\nLinkedIn\\nTwitter\\nFacebook\\nSubscribe to newsletter\\nType your email…\\nSubscribe'}]"
      ]
     },
     "execution_count": 25,
     "metadata": {},
     "output_type": "execute_result"
    }
   ],
   "source": [
    "system_prompt = \"You are an assistant that analyzes the contents of a website \\\n",
    "and provides a short summary, ignoring text that might be navigation related. \\\n",
    "Respond in markdown.\"\n",
    "\n",
    "def user_prompt_for(website):\n",
    "    user_prompt = f\"You are looking at a website titled {website.title}\"\n",
    "    user_prompt += \"\\nThe contents of this website is as follows; \\\n",
    "please provide a short summary of this website in markdown. \\\n",
    "If it includes news or announcements, then summarize these too.\\n\\n\"\n",
    "    user_prompt += website.text\n",
    "    return user_prompt\n",
    "\n",
    "def messages_for(website):\n",
    "    return [\n",
    "        {\"role\": \"system\", \"content\": system_prompt},\n",
    "        {\"role\": \"user\", \"content\": user_prompt_for(website)}\n",
    "    ]\n",
    "\n",
    "messages_for(ed)"
   ]
  },
  {
   "cell_type": "markdown",
   "id": "ca22bb51",
   "metadata": {},
   "source": [
    "### 4. Summarize the website"
   ]
  },
  {
   "cell_type": "code",
   "execution_count": 26,
   "id": "d46a172b",
   "metadata": {},
   "outputs": [
    {
     "name": "stdout",
     "output_type": "stream",
     "text": [
      "**Website Summary**\n",
      "=====================\n",
      "\n",
      "*   The website belongs to Edward Donner, a co-founder and CTO of Nebula.io, an AI company applying AI to help people discover their potential.\n",
      "*   Edward is also the founder and CEO of AI startup untapt, acquired in 2021.\n",
      "\n",
      "### Recent News and Announcements\n",
      "==================================\n",
      "\n",
      "*   **The Complete Agentic AI Engineering Course**: Announced on April 21, 2025.\n",
      "*   **LLM Workshop – Hands-on with Agents – resources**: Released on December 21, 2024.\n",
      "*   **Welcome, SuperDataScientists!**: Published on November 13, 2024.\n",
      "*   **Mastering AI and LLM Engineering – Resources**: Launched in January 2025.\n"
     ]
    }
   ],
   "source": [
    "import ollama\n",
    "\n",
    "def summarize(url):\n",
    "    website = Website(url)\n",
    "    messages = messages_for(website)\n",
    "    response = ollama.chat(model=\"llama3.2\", messages=messages)\n",
    "    return response['message']['content']\n",
    "\n",
    "print(summarize(\"https://edwarddonner.com\"))"
   ]
  },
  {
   "cell_type": "markdown",
   "id": "88736757",
   "metadata": {},
   "source": [
    "### 5. Display summary of website as markdown"
   ]
  },
  {
   "cell_type": "code",
   "execution_count": 27,
   "id": "95c140d6",
   "metadata": {},
   "outputs": [
    {
     "data": {
      "text/markdown": [
       "**Summary of CNN Website**\n",
       "==========================\n",
       "\n",
       "### Introduction\n",
       "\n",
       "The CNN website is a news and media organization that provides breaking news, in-depth analysis, and feature stories on a wide range of topics, including politics, business, health, entertainment, and more.\n",
       "\n",
       "### Features\n",
       "\n",
       "* Latest news and updates from around the world\n",
       "* In-depth analysis and commentary on current events\n",
       "* Exclusive interviews with newsmakers and thought leaders\n",
       "* Breaking news alerts and notifications\n",
       "* Video content, including live streams and documentaries\n",
       "* Interactive features, such as quizzes and crosswords\n",
       "\n",
       "### Sections\n",
       "\n",
       "The website is organized into several sections, including:\n",
       "\n",
       "* **News**: Latest breaking news from around the world\n",
       "* **Politics**: In-depth analysis and commentary on politics and government\n",
       "* **Business**: News and analysis on business and economics\n",
       "* **Health**: News and features on health and wellness\n",
       "* **Entertainment**: Entertainment news and reviews\n",
       "* **Sports**: Sports news and highlights\n",
       "* **Science**: News and features on science and technology\n",
       "\n",
       "### Topics\n",
       "\n",
       "The website covers a wide range of topics, including:\n",
       "\n",
       "* **Ukraine-Russia War**: Latest updates from the conflict zone\n",
       "* **Israel-Hamas War**: Analysis and commentary on the conflict\n",
       "* **US-China Trade Talks**: Updates on trade negotiations between the US and China\n",
       "* **Climate Change**: News and features on climate change and sustainability\n",
       "\n",
       "### Videos\n",
       "\n",
       "The website features a range of video content, including:\n",
       "\n",
       "* **Live Streams**: Live coverage of news events and conferences\n",
       "* **Documentaries**: In-depth documentaries on current events and issues\n",
       "* **Interviews**: Exclusive interviews with newsmakers and thought leaders\n",
       "* **News Analysis**: Video analysis of breaking news stories\n",
       "\n",
       "### Interactive Features\n",
       "\n",
       "The website offers a range of interactive features, including:\n",
       "\n",
       "* **Quizzes**: Trivia quizzes on various topics\n",
       "* **Crosswords**: Crossword puzzles for entertainment\n",
       "* **Games**: Games and challenges on various topics"
      ],
      "text/plain": [
       "<IPython.core.display.Markdown object>"
      ]
     },
     "metadata": {},
     "output_type": "display_data"
    }
   ],
   "source": [
    "from IPython.display import display, Markdown\n",
    "\n",
    "def display_summary(url):\n",
    "    summary = summarize(url)\n",
    "    display(Markdown(summary))\n",
    "    \n",
    "display_summary(\"https://cnn.com\")"
   ]
  },
  {
   "cell_type": "code",
   "execution_count": 28,
   "id": "b684557e",
   "metadata": {},
   "outputs": [
    {
     "data": {
      "text/markdown": [
       "# Anthropic Website Summary\n",
       "\n",
       "## Mission and Philosophy\n",
       "\n",
       "Anthropic aims to build AI that serves humanity's long-term well-being, prioritizing responsible development and considering the effects of powerful technologies.\n",
       "\n",
       "### Core Views on AI Safety\n",
       "\n",
       "* Designing powerful technologies requires bold steps forward and intentional pauses.\n",
       "* Focus on building tools with human benefit at their foundation, like Claude.\n",
       "* Responsible AI development involves daily research, policy work, and product design.\n",
       "\n",
       "## Research and Projects\n",
       "\n",
       "Anthropic publishes various research papers, articles, and announcements, including:\n",
       "\n",
       "* **Claude 3.7 Sonnet**: The most intelligent AI model, now available.\n",
       "* **Alignment faking in large language models**: A recent alignment science paper.\n",
       "* **Introducing the Model Context Protocol**: A new protocol for improving model context awareness.\n",
       "\n",
       "## Products and Tools\n",
       "\n",
       "* **Claude**: An AI platform for building custom experiences and applications.\n",
       "* **Anthropic Academy**: A learning resource for building with Claude.\n",
       "* **Download apps**: Accessible through the Anthropic website.\n",
       "\n",
       "## Events and News\n",
       "\n",
       "* **Featured news articles**:\n",
       "\t+ Tracing the thoughts of a large language model (March 27, 2025)\n",
       "\t+ Societal impacts (March 27, 2025)\n",
       "\t+ Alignment faking in large language models (December 18, 2024)\n",
       "\n",
       "## Transparency and Security\n",
       "\n",
       "Anthropic has implemented various security measures, including:\n",
       "\n",
       "* **Responsible scaling policy**: A guiding framework for responsible AI development.\n",
       "* **ISO 42001 certification**: Anthropic has received this standard for its quality management system.\n",
       "\n",
       "This summary provides a brief overview of the key aspects of the Anthropic website."
      ],
      "text/plain": [
       "<IPython.core.display.Markdown object>"
      ]
     },
     "metadata": {},
     "output_type": "display_data"
    }
   ],
   "source": [
    "display_summary(\"https://anthropic.com\")"
   ]
  },
  {
   "cell_type": "code",
   "execution_count": null,
   "id": "d86ab7dd",
   "metadata": {},
   "outputs": [],
   "source": []
  }
 ],
 "metadata": {
  "kernelspec": {
   "display_name": ".venv",
   "language": "python",
   "name": "python3"
  },
  "language_info": {
   "codemirror_mode": {
    "name": "ipython",
    "version": 3
   },
   "file_extension": ".py",
   "mimetype": "text/x-python",
   "name": "python",
   "nbconvert_exporter": "python",
   "pygments_lexer": "ipython3",
   "version": "3.12.9"
  }
 },
 "nbformat": 4,
 "nbformat_minor": 5
}
