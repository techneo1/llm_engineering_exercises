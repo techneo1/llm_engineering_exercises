{
 "cells": [
  {
   "cell_type": "markdown",
   "id": "fef0afdd",
   "metadata": {},
   "source": [
    "## Basic Webscraper using BeautifulSoup"
   ]
  },
  {
   "cell_type": "code",
   "execution_count": 16,
   "id": "5c142ee9",
   "metadata": {},
   "outputs": [
    {
     "name": "stdout",
     "output_type": "stream",
     "text": [
      "Home - Edward Donner\n",
      "Home\n",
      "Connect Four\n",
      "Outsmart\n",
      "An arena that pits LLMs against each other in a battle of diplomacy and deviousness\n",
      "About\n",
      "Posts\n",
      "Well, hi there.\n",
      "I’m Ed. I like writing code and experimenting with LLMs, and hopefully you’re here because you do too. I also enjoy DJing (but I’m badly out of practice), amateur electronic music production (\n",
      "very\n",
      "amateur) and losing myself in\n",
      "Hacker News\n",
      ", nodding my head sagely to things I only half understand.\n",
      "I’m the co-founder and CTO of\n",
      "Nebula.io\n",
      ". We’re applying AI to a field where it can make a massive, positive impact: helping people discover their potential and pursue their reason for being. Recruiters use our product today to source, understand, engage and manage talent. I’m previously the founder and CEO of AI startup untapt,\n",
      "acquired in 2021\n",
      ".\n",
      "We work with groundbreaking, proprietary LLMs verticalized for talent, we’ve\n",
      "patented\n",
      "our matching model, and our award-winning platform has happy customers and tons of press coverage.\n",
      "Connect\n",
      "with me for more!\n",
      "April 21, 2025\n",
      "The Complete Agentic AI Engineering Course\n",
      "January 23, 2025\n",
      "LLM Workshop – Hands-on with Agents – resources\n",
      "December 21, 2024\n",
      "Welcome, SuperDataScientists!\n",
      "November 13, 2024\n",
      "Mastering AI and LLM Engineering – Resources\n",
      "Navigation\n",
      "Home\n",
      "Connect Four\n",
      "Outsmart\n",
      "An arena that pits LLMs against each other in a battle of diplomacy and deviousness\n",
      "About\n",
      "Posts\n",
      "Get in touch\n",
      "ed [at] edwarddonner [dot] com\n",
      "www.edwarddonner.com\n",
      "Follow me\n",
      "LinkedIn\n",
      "Twitter\n",
      "Facebook\n",
      "Subscribe to newsletter\n",
      "Type your email…\n",
      "Subscribe\n"
     ]
    }
   ],
   "source": [
    "import requests\n",
    "from bs4 import BeautifulSoup\n",
    "\n",
    "headers = {\n",
    " \"User-Agent\": \"Mozilla/5.0 (Windows NT 10.0; Win64; x64) AppleWebKit/537.36 (KHTML, like Gecko) Chrome/117.0.0.0 Safari/537.36\"\n",
    "}\n",
    "\n",
    "class Website:\n",
    "\n",
    "    def __init__(self, url):\n",
    "        \"\"\"\n",
    "        Create this Website object from the given url using the BeautifulSoup library\n",
    "        \"\"\"\n",
    "        self.url = url\n",
    "        response = requests.get(url, headers=headers)\n",
    "        soup = BeautifulSoup(response.content, 'html.parser')\n",
    "        self.title = soup.title.string if soup.title else \"No title found\"\n",
    "        for irrelevant in soup.body([\"script\", \"style\", \"img\", \"input\"]):\n",
    "            irrelevant.decompose()\n",
    "        self.text = soup.body.get_text(separator=\"\\n\", strip=True)\n",
    "\n",
    "ed = Website(\"https://edwarddonner.com\")\n",
    "print(ed.title)\n",
    "print(ed.text)"
   ]
  },
  {
   "cell_type": "markdown",
   "id": "6d45274f",
   "metadata": {},
   "source": [
    "## Basic System and User prompting for testing"
   ]
  },
  {
   "cell_type": "code",
   "execution_count": 17,
   "id": "7aa3686d",
   "metadata": {},
   "outputs": [
    {
     "name": "stdout",
     "output_type": "stream",
     "text": [
      "Assistant: I'm good!\n"
     ]
    }
   ],
   "source": [
    "import os\n",
    "from dotenv import load_dotenv\n",
    "from groq import Groq\n",
    "\n",
    "load_dotenv()\n",
    "\n",
    "messages = [{\n",
    "    \"role\": \"system\",\n",
    "    \"content\":\n",
    "    \"You are a helpful assistant. You reply with very short answers.\"\n",
    "}, {\"role\": \"user\", \"content\": 'How are you'}]\n",
    "\n",
    "client = Groq(api_key=os.environ.get(\"GROQ_API_KEY\"))\n",
    "response = client.chat.completions.create(model=\"llama3-70b-8192\",\n",
    "                                        messages=messages,\n",
    "                                        max_tokens=100,\n",
    "                                        temperature=1.2)\n",
    "\n",
    "print(\"Assistant:\", response.choices[0].message.content)    "
   ]
  },
  {
   "cell_type": "markdown",
   "id": "d3ab9961",
   "metadata": {},
   "source": [
    "## Basic Static Website Summariser"
   ]
  },
  {
   "cell_type": "code",
   "execution_count": 18,
   "id": "e4fdf130",
   "metadata": {},
   "outputs": [],
   "source": [
    "from IPython.display import display, Markdown\n",
    "\n",
    "system_prompt = \"You are an assistant that analyzes the contents of a website \\\n",
    "and provides a short summary, ignoring text that might be navigation related. \\\n",
    "Respond in markdown.\"\n",
    "\n",
    "def user_prompt_for(website):\n",
    "    user_prompt = f\"You are looking at a website titled {website.title}\"\n",
    "    user_prompt += \"\\nThe contents of this website is as follows; \\\n",
    "please provide a short summary of this website in markdown. \\\n",
    "If it includes news or announcements, then summarize these too.\\n\\n\"\n",
    "    user_prompt += website.text\n",
    "    return user_prompt\n",
    "\n",
    "def messages_for(website):\n",
    "    return [\n",
    "        {\"role\": \"system\", \"content\": system_prompt},\n",
    "        {\"role\": \"user\", \"content\": user_prompt_for(website)}\n",
    "    ]\n",
    "\n",
    "def summarize(url):\n",
    "    website = Website(url)\n",
    "\n",
    "    response = client.chat.completions.create(\n",
    "        model=\"llama3-70b-8192\",\n",
    "        messages=messages_for(website))\n",
    "    return response.choices[0].message.content\n",
    "\n",
    "def display_summary(url):\n",
    "    summary = summarize(url)\n",
    "    display(Markdown(summary))"
   ]
  },
  {
   "cell_type": "code",
   "execution_count": 22,
   "id": "d46a172b",
   "metadata": {},
   "outputs": [
    {
     "data": {
      "text/markdown": [
       "**Summary**\n",
       "### About the Author\n",
       "Ed Donner is a co-founder and CTO, with a passion for writing code, experimenting with LLMs, and DJing. He's previously founded another AI startup, which was acquired.\n",
       "\n",
       "### Recent Posts\n",
       "\n",
       "* **The Complete Agentic AI Engineering Course** (April 21, 2025\n",
       "* **LLM Workshop – Hands-on with Agents – resources** (January 23, 2025)\n",
       "* **Welcome, SuperDataScientists!** (December 21, 2024)\n",
       "* **Mastering AI and LLM Engineering – Resources** (November 13, 2024)\n",
       "\n",
       "### Projects\n",
       "* **Nebula.io**: Applying AI to help people discover their potential and pursue their reason for being.\n",
       "* **Outsmart**: An arena where LLMs compete against each other in diplomacy and strategy."
      ],
      "text/plain": [
       "<IPython.core.display.Markdown object>"
      ]
     },
     "metadata": {},
     "output_type": "display_data"
    }
   ],
   "source": [
    "display_summary(\"https://edwarddonner.com\")"
   ]
  },
  {
   "cell_type": "code",
   "execution_count": 21,
   "id": "95c140d6",
   "metadata": {},
   "outputs": [
    {
     "data": {
      "text/markdown": [
       "**Breaking News, Latest News and Videos | CNN**\n",
       "===========================================================\n",
       "\n",
       "CNN provides up-to-date news from around the world, covering various topics including:\n",
       "\n",
       "### Top Stories\n",
       "\n",
       "* Australia's center-left Labor Party wins election\n",
       "* Trump slams Canada, Rubio spars with German Foreign Ministry\n",
       "* Prince Harry says King Charles won't speak to him due to security issues\n",
       "* Migrant scales tree to avoid ICE arrest in Texas\n",
       "* Elon Musk's ethical minefield, mapped\n",
       "\n",
       "### Featured Sections\n",
       "\n",
       "* **Space and Science**: First image from world's largest solar telescope, massive molecular cloud close to Earth\n",
       "* **Global Travel**: 1,600-year-old megastructure, hedonistic party capital of Europe\n",
       "* **Global Business**: A massive tariff on millions of Americans' purchases, S&P 500 posts longest winning streak in 20 years\n",
       "* **Style**: The artisan making warrior prints for modern Japan, why young people are getting into watchmaking\n",
       "* **Sports**: Breaking records, Olympic gold medalist talks to CNN, Harry Maguire scores goal of a lifetime\n",
       "\n",
       "### In Case You Missed It**\n",
       "\n",
       "* 2025 nominees, translating Chinese food names into English, Ukrainian journalist's body returned with signs of torture\n",
       "* **Fact Check**: Trump lies about serving three terms, Amazon considered breaking out a tariff charge\n",
       "* **Photos You Should See**: Defining photos of Trump's first 100 days, people we've lost in 2025"
      ],
      "text/plain": [
       "<IPython.core.display.Markdown object>"
      ]
     },
     "metadata": {},
     "output_type": "display_data"
    }
   ],
   "source": [
    "display_summary(\"https://cnn.com\")"
   ]
  },
  {
   "cell_type": "code",
   "execution_count": 20,
   "id": "b684557e",
   "metadata": {},
   "outputs": [
    {
     "data": {
      "text/markdown": [
       "**Anthropic: AI Research and Products for Safety and Well-being**\n",
       "============================================================\n",
       "\n",
       "Anthropic is a company focused on building AI that serves humanity's long-term well-being, with a focus on safety and responsible scaling.\n",
       "\n",
       "### News and Announcements\n",
       "--------------------\n",
       "\n",
       "* **Claude 3.7 Sonnet**: The latest AI model from Anthropic, offering improved performance and capabilities.\n",
       "* **Research and Development**: Recent papers and releases on topics such as interpretability, alignment science, and the introduction of the Model Context Protocol.\n",
       "\n",
       "### Products and Solutions\n",
       "---------------------------\n",
       "\n",
       "* **Claude**: A large language model for building AI-powered applications and custom experiences.\n",
       "* **API Platform**: A platform for developers to build with Claude, with documentation and pricing plans.\n",
       "* **Solutions**: AI agents, coding, customer support, and more.\n",
       "\n",
       "### Research and Commitments\n",
       "-----------------------------\n",
       "\n",
       "* **Research Overview**: Papers and publications on AI safety, economic index, and Claude models.\n",
       "* **Commitments**: Transparency, responsible scaling policy, security, and compliance."
      ],
      "text/plain": [
       "<IPython.core.display.Markdown object>"
      ]
     },
     "metadata": {},
     "output_type": "display_data"
    }
   ],
   "source": [
    "display_summary(\"https://anthropic.com\")"
   ]
  }
 ],
 "metadata": {
  "kernelspec": {
   "display_name": ".venv",
   "language": "python",
   "name": "python3"
  },
  "language_info": {
   "codemirror_mode": {
    "name": "ipython",
    "version": 3
   },
   "file_extension": ".py",
   "mimetype": "text/x-python",
   "name": "python",
   "nbconvert_exporter": "python",
   "pygments_lexer": "ipython3",
   "version": "3.12.9"
  }
 },
 "nbformat": 4,
 "nbformat_minor": 5
}
