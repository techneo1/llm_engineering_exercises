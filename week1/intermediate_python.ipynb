{
 "cells": [
  {
   "cell_type": "markdown",
   "metadata": {},
   "source": [
    "### Modules and Imports"
   ]
  },
  {
   "cell_type": "code",
   "execution_count": null,
   "metadata": {},
   "outputs": [],
   "source": [
    "import math\n",
    "print(math.sqrt(16));\n",
    "\n",
    "import numpy as np\n",
    "print(np.array([1, 2, 3])); # numpy array\n",
    "\n",
    "from random import randint\n",
    "print(randint(1, 10)); # random number between 1 and 10"
   ]
  },
  {
   "cell_type": "markdown",
   "metadata": {},
   "source": [
    "### Functions\n"
   ]
  },
  {
   "cell_type": "code",
   "execution_count": null,
   "metadata": {},
   "outputs": [
    {
     "name": "stdout",
     "output_type": "stream",
     "text": [
      "Hello, Stranger!\n",
      "Hello, Srikanth!\n",
      "8\n"
     ]
    }
   ],
   "source": [
    "def greet(name=\"Stranger\"):\n",
    "    print(f\"Hello, {name}!\")\n",
    "greet()\n",
    "greet(\"Srikanth\")\n",
    "\n",
    "def add(a, b):\n",
    "    return a + b\n",
    "print(add(5, 3)); # 8"
   ]
  },
  {
   "cell_type": "markdown",
   "metadata": {},
   "source": [
    "### Strings"
   ]
  },
  {
   "cell_type": "code",
   "execution_count": null,
   "metadata": {},
   "outputs": [
    {
     "name": "stdout",
     "output_type": "stream",
     "text": [
      "14\n",
      "Hello, world!\n",
      "Hello\n",
      "['Python', 'is', 'great']\n",
      "Python is great\n",
      "!\n",
      "This is a     multi-line string.        It can span multiple lines.\n",
      "This is a\n",
      "    multi-line string.\n",
      "        It can span multiple lines.\n",
      "\n",
      "    This is a docstring.\n",
      "    It describes the function.\n",
      "    \n"
     ]
    }
   ],
   "source": [
    "greeting = \"Hello, python!\"\n",
    "print(len(greeting))   # Length of the string\n",
    "\n",
    "new_greeting = greeting.replace(\"python\", \"world\")\n",
    "print(new_greeting); # Hello, world!\n",
    "\n",
    "formatted_string = \"        Hello       \"\n",
    "print(formatted_string.strip()); # Hello\n",
    "\n",
    "words = \"Python is great\"\n",
    "print(words.split()) # ['Python', 'is', 'great']\n",
    "\n",
    "print(\"\".join(words))\n",
    "\n",
    "greeting[0:5] # Hello\n",
    "greeting[4::-1] # olleH\n",
    "print(greeting[-1]) # !\n",
    "\n",
    "# Multi-line strings\n",
    "\n",
    "# using \\ to continue the string\n",
    "multiline_string = \"This is a \\\n",
    "    multi-line string.\\\n",
    "        It can span multiple lines.\"\n",
    "print(multiline_string) # This is a     multi-line string.        It can span multiple lines.\n",
    "\n",
    "# using triple quotes\n",
    "multiline_string = \"\"\"This is a\n",
    "    multi-line string.\n",
    "        It can span multiple lines.\"\"\"\n",
    "print(multiline_string) # This is a     multi-line string.        It can span multiple lines.\n",
    "\n",
    "# triple quotes as docstring\n",
    "def example_function():\n",
    "    \"\"\"\n",
    "    This is a docstring.\n",
    "    It describes the function.\n",
    "    \"\"\"\n",
    "    pass\n",
    "print(example_function.__doc__) # This is a docstring. It describes the function.\n",
    "\n"
   ]
  },
  {
   "cell_type": "markdown",
   "metadata": {},
   "source": [
    "### Formatter String literals\n"
   ]
  },
  {
   "cell_type": "code",
   "execution_count": null,
   "metadata": {},
   "outputs": [
    {
     "name": "stdout",
     "output_type": "stream",
     "text": [
      "Area of 10 X 5 rectangle is: 50\n",
      "Price: 10.51\n",
      "Today's date is: March 31, 2025\n"
     ]
    }
   ],
   "source": [
    "width = 10\n",
    "height = 5\n",
    "print(f\"Area of {width} X {height} rectangle is: {width * height}\") # Width: 10, Height: 5\n",
    "\n",
    "formatted_price = f\"Price: {10.5123455:.2f}\" # 10.50\n",
    "print(formatted_price) # Price: 10.50\n",
    "\n",
    "from datetime import datetime\n",
    "today = datetime.now()\n",
    "formatted_date = f\"Today's date is: {today:%B %d, %Y}\" # 2023-10-03\n",
    "print(formatted_date) # Today's date is: 2023-10-03"
   ]
  },
  {
   "cell_type": "markdown",
   "metadata": {},
   "source": [
    "### LISTS - Ordered and Mutable\n"
   ]
  },
  {
   "cell_type": "code",
   "execution_count": null,
   "metadata": {},
   "outputs": [
    {
     "name": "stdout",
     "output_type": "stream",
     "text": [
      "['cherry', 'grape', 'orange']\n",
      "John\n",
      "{'name': 'John', 'age': 31, 'city': 'New York'}\n",
      "{'name': 'John', 'age': 31, 'city': 'New York', 'country': 'USA'}\n"
     ]
    }
   ],
   "source": [
    "fruits = [\"apple\", \"banana\", \"cherry\"]\n",
    "\n",
    "fruits[0] = \"orange\"\n",
    "fruits.append(\"grape\")\n",
    "fruits.remove(\"banana\")\n",
    "fruits.sort()\n",
    "print(fruits) # ['cherry', 'grape', 'orange']"
   ]
  },
  {
   "cell_type": "markdown",
   "metadata": {},
   "source": [
    "### DICTIONARY - Unordered and Mutable"
   ]
  },
  {
   "cell_type": "code",
   "execution_count": null,
   "metadata": {},
   "outputs": [
    {
     "name": "stdout",
     "output_type": "stream",
     "text": [
      "John\n",
      "{'name': 'John', 'age': 31, 'city': 'New York'}\n",
      "{'name': 'John', 'age': 31, 'city': 'New York', 'country': 'USA'}\n",
      "dict_keys(['name', 'age', 'city', 'country'])\n",
      "dict_values(['John', 31, 'New York', 'USA'])\n",
      "dict_items([('name', 'John'), ('age', 31), ('city', 'New York'), ('country', 'USA')])\n",
      "John\n"
     ]
    }
   ],
   "source": [
    "person = {\n",
    "    \"name\": \"John\",\n",
    "    \"age\": 30,\n",
    "    \"city\": \"New York\"\n",
    "}\n",
    "print(person[\"name\"]) # John\n",
    "person[\"age\"] = 31\n",
    "print(person) # {'name': 'John', 'age': 31, 'city': 'New York'}\n",
    "person[\"country\"] = \"USA\"\n",
    "print(person) # {'name': 'John', 'age': 31, 'city': 'New York', 'country': 'USA'}\n",
    "\n",
    "print(person.keys()) # dict_keys(['name', 'age', 'city', 'country'])\n",
    "print(person.values()) # dict_values(['John', 31, 'New York', 'USA'])\n",
    "print(person.items()) # dict_items([('name', 'John'), ('age', 31), ('city', 'New York'), ('country', 'USA')])\n",
    "print(person.get(\"name\")) # John"
   ]
  },
  {
   "cell_type": "markdown",
   "metadata": {},
   "source": [
    "### SETS - Unordered, Unique and Mutable"
   ]
  },
  {
   "cell_type": "code",
   "execution_count": null,
   "metadata": {},
   "outputs": [
    {
     "name": "stdout",
     "output_type": "stream",
     "text": [
      "{'apple', 'cherry', 'orange'}\n"
     ]
    }
   ],
   "source": [
    "fruits_set = {\"apple\", \"banana\", \"cherry\"}\n",
    "fruits_set.add(\"orange\")\n",
    "fruits_set.remove(\"banana\")\n",
    "print(fruits_set) # {'apple', 'cherry', 'orange'}\n"
   ]
  },
  {
   "cell_type": "markdown",
   "metadata": {},
   "source": [
    "### Files\n"
   ]
  },
  {
   "cell_type": "code",
   "execution_count": null,
   "metadata": {},
   "outputs": [
    {
     "name": "stdout",
     "output_type": "stream",
     "text": [
      "File data/input.txt not found.\n",
      "Text files in the 'data' directory: []\n"
     ]
    }
   ],
   "source": [
    "from pathlib import Path\n",
    "import glob\n",
    "\n",
    "# Define file paths using pathlib\n",
    "input_file = Path('data') / 'input.txt'\n",
    "output_file = Path('data') / 'output.txt'\n",
    "\n",
    "# Ensure the directory exists\n",
    "output_file.parent.mkdir(parents=True, exist_ok=True)\n",
    "\n",
    "# Read the input file and write to the output file\n",
    "if input_file.exists():\n",
    "    with open(input_file, 'r', encoding='utf-8') as infile, \\\n",
    "         open(output_file, 'w', encoding='utf-8') as outfile:\n",
    "        for line in infile:\n",
    "            outfile.write(line.upper())  # Example: Write uppercase content\n",
    "else:\n",
    "    print(f\"File {input_file} not found.\")\n",
    "\n",
    "# List all text files in the directory\n",
    "txt_files = glob.glob(str(Path('data') / '*.txt'))\n",
    "print(\"Text files in the 'data' directory:\", txt_files)"
   ]
  },
  {
   "cell_type": "markdown",
   "metadata": {},
   "source": [
    "### Classes"
   ]
  },
  {
   "cell_type": "code",
   "execution_count": null,
   "metadata": {},
   "outputs": [
    {
     "name": "stdout",
     "output_type": "stream",
     "text": [
      "2021 Toyota Camry\n",
      "The engine of the Camry is now running.\n"
     ]
    }
   ],
   "source": [
    "class Car:\n",
    "    def __init__(self, make, model, year):\n",
    "        self.make = make\n",
    "        self.model = model\n",
    "        self.year = year\n",
    "\n",
    "    def description(self):\n",
    "        return f\"{self.year} {self.make} {self.model}\"\n",
    "\n",
    "    def start_engine(self):\n",
    "        print(f\"The engine of the {self.model} is now running.\")\n",
    "\n",
    "# Creating a Car object\n",
    "my_car = Car(\"Toyota\", \"Camry\", 2021)\n",
    "\n",
    "# Accessing attributes and calling methods\n",
    "print(my_car.description())  # Output: 2021 Toyota Camry\n",
    "my_car.start_engine()        # Output: The engine of the Camry is now running."
   ]
  },
  {
   "cell_type": "markdown",
   "metadata": {},
   "source": [
    "### Pickling(Serialise) and Unpickling(De-serialise) Objects\n"
   ]
  },
  {
   "cell_type": "code",
   "execution_count": null,
   "metadata": {},
   "outputs": [
    {
     "name": "stdout",
     "output_type": "stream",
     "text": [
      "Pickle Loaded: {'name': 'Alice', 'age': 30, 'hobbies': ['reading', 'cycling']}\n",
      "JSON Loaded: {'name': 'Alice', 'age': 30, 'hobbies': ['reading', 'cycling']}\n"
     ]
    }
   ],
   "source": [
    "# Pickling example\n",
    "class Person:\n",
    "    def __init__(self, name, age):\n",
    "        self.name = name\n",
    "        self.age = age\n",
    "\n",
    "    def __repr__(self):\n",
    "        return f\"Person(name={self.name}, age={self.age})\"\n",
    "\n",
    "\n",
    "import pickle\n",
    "\n",
    "# Create an instance of the class\n",
    "person = Person(\"Alice\", 30)\n",
    "\n",
    "# Open a file in binary write mode\n",
    "with open(\"person.pkl\", \"wb\") as file:\n",
    "    pickle.dump(person, file)  # Serialize and write to file\n",
    "\n",
    "print(\"Object pickled successfully.\")\n",
    "\n",
    "# Open the file in binary read mode\n",
    "with open(\"person.pkl\", \"rb\") as file:\n",
    "    loaded_person = pickle.load(file)  # Deserialize and load\n",
    "\n",
    "print(\"Loaded object:\", loaded_person)\n",
    "\n",
    "# Alternative: JSON Serialization\n",
    "import json\n",
    "\n",
    "# Example dictionary\n",
    "data = {\"name\": \"Alice\", \"age\": 30, \"hobbies\": [\"reading\", \"cycling\"]}\n",
    "\n",
    "# Save to a JSON file\n",
    "with open(\"data.json\", \"w\") as file:\n",
    "    json.dump(data, file)\n",
    "\n",
    "print(\"Data saved as JSON.\")\n",
    "\n",
    "# Read from the JSON file\n",
    "with open(\"data.json\", \"r\") as file:\n",
    "    loaded_data = json.load(file)\n",
    "\n",
    "print(\"Loaded JSON data:\", loaded_data)\n",
    "\n",
    "# Convert Python object to JSON string\n",
    "json_string = json.dumps(data)\n",
    "print(\"JSON String:\", json_string)\n",
    "\n",
    "# Convert JSON string back to Python object\n",
    "python_obj = json.loads(json_string)\n",
    "print(\"Python Object:\", python_obj)"
   ]
  },
  {
   "cell_type": "markdown",
   "metadata": {},
   "source": [
    "### Type hint, Inheritance and Class methods"
   ]
  },
  {
   "cell_type": "code",
   "execution_count": null,
   "metadata": {},
   "outputs": [
    {
     "name": "stdout",
     "output_type": "stream",
     "text": [
      "'The Catcher in the Rye' by J.D. Salinger (1951)\n"
     ]
    }
   ],
   "source": [
    "class LibraryItem:\n",
    "    title: str\n",
    "    year: int\n",
    "\n",
    "    def __init__(self, title: str, year: int):\n",
    "        self.title = title\n",
    "        self.year = year\n",
    "\n",
    "    def get_info(self) -> str:\n",
    "        return f\"{self.title} ({self.year})\"\n",
    "\n",
    "class Book(LibraryItem):\n",
    "    author: str\n",
    "\n",
    "    def __init__(self, title: str, year: int, author: str):\n",
    "        super().__init__(title, year)\n",
    "        self.author = author\n",
    "\n",
    "    def get_info(self) -> str:\n",
    "        return f\"'{self.title}' by {self.author} ({self.year})\"\n",
    "\n",
    "    @classmethod\n",
    "    def from_string(cls, info: str) -> 'Book':\n",
    "        title, author, year = info.split(', ')\n",
    "        return cls(title, int(year), author)\n",
    "\n",
    "# Using the class method and the subclass\n",
    "book = Book.from_string(\"The Catcher in the Rye, J.D. Salinger, 1951\")\n",
    "print(book.get_info())"
   ]
  },
  {
   "cell_type": "code",
   "execution_count": null,
   "metadata": {},
   "outputs": [],
   "source": []
  }
 ],
 "metadata": {
  "kernelspec": {
   "display_name": ".venv",
   "language": "python",
   "name": "python3"
  },
  "language_info": {
   "codemirror_mode": {
    "name": "ipython",
    "version": 3
   },
   "file_extension": ".py",
   "mimetype": "text/x-python",
   "name": "python",
   "nbconvert_exporter": "python",
   "pygments_lexer": "ipython3",
   "version": "3.12.9"
  }
 },
 "nbformat": 4,
 "nbformat_minor": 2
}
